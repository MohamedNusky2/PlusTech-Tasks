{
  "nbformat": 4,
  "nbformat_minor": 0,
  "metadata": {
    "colab": {
      "provenance": [],
      "authorship_tag": "ABX9TyNZWfU9dxpM3fljmdlpu7xF",
      "include_colab_link": true
    },
    "kernelspec": {
      "name": "python3",
      "display_name": "Python 3"
    },
    "language_info": {
      "name": "python"
    }
  },
  "cells": [
    {
      "cell_type": "markdown",
      "metadata": {
        "id": "view-in-github",
        "colab_type": "text"
      },
      "source": [
        "<a href=\"https://colab.research.google.com/github/MohamedNusky2/PlusTech-Tasks/blob/main/exercise.ipynb\" target=\"_parent\"><img src=\"https://colab.research.google.com/assets/colab-badge.svg\" alt=\"Open In Colab\"/></a>"
      ]
    },
    {
      "cell_type": "code",
      "source": [
        "for number in range(1, 10, 2):\n",
        "  print(\"Attempt\", number, number * \".\")\n"
      ],
      "metadata": {
        "colab": {
          "base_uri": "https://localhost:8080/"
        },
        "id": "1kurciUsBite",
        "outputId": "72dfe414-e9c9-4faa-d2b5-9b2c060af306"
      },
      "execution_count": 10,
      "outputs": [
        {
          "output_type": "stream",
          "name": "stdout",
          "text": [
            "Attempt 1 .\n",
            "Attempt 3 ...\n",
            "Attempt 5 .....\n",
            "Attempt 7 .......\n",
            "Attempt 9 .........\n"
          ]
        }
      ]
    },
    {
      "cell_type": "code",
      "source": [
        "Successful = True\n",
        "for number in range (3):\n",
        "  print(\"attempt\")\n",
        "  if Successful:\n",
        "    print(\"successful\")\n",
        "    break\n",
        "else:\n",
        "  print(\"Attempted 3 times & failed\")"
      ],
      "metadata": {
        "colab": {
          "base_uri": "https://localhost:8080/"
        },
        "id": "41Wr9E-8D7Zy",
        "outputId": "39c3e905-c667-42c1-d5e6-c74e908e8b9b"
      },
      "execution_count": 11,
      "outputs": [
        {
          "output_type": "stream",
          "name": "stdout",
          "text": [
            "attempt\n",
            "successful\n"
          ]
        }
      ]
    },
    {
      "cell_type": "code",
      "source": [
        "for x in range (5):\n",
        "  for y in range (3):\n",
        "    print(f\"({x},{y})\")\n"
      ],
      "metadata": {
        "colab": {
          "base_uri": "https://localhost:8080/"
        },
        "id": "6yG-cMaIGEqz",
        "outputId": "bcc186e8-46f7-45a0-cee4-bbd9493bb365"
      },
      "execution_count": 12,
      "outputs": [
        {
          "output_type": "stream",
          "name": "stdout",
          "text": [
            "(0,0)\n",
            "(0,1)\n",
            "(0,2)\n",
            "(1,0)\n",
            "(1,1)\n",
            "(1,2)\n",
            "(2,0)\n",
            "(2,1)\n",
            "(2,2)\n",
            "(3,0)\n",
            "(3,1)\n",
            "(3,2)\n",
            "(4,0)\n",
            "(4,1)\n",
            "(4,2)\n"
          ]
        }
      ]
    },
    {
      "cell_type": "code",
      "source": [
        "count = 0\n",
        "for number in range(1,100):\n",
        "  if number % 25 == 0:\n",
        "      count +=1\n",
        "      print(\"number\")\n",
        "print (f\"we have {count} even numbers\")"
      ],
      "metadata": {
        "colab": {
          "base_uri": "https://localhost:8080/"
        },
        "id": "D5ye8byCLYIe",
        "outputId": "c30ae4c3-8674-4745-e78d-3c2628d87ba1"
      },
      "execution_count": 35,
      "outputs": [
        {
          "output_type": "stream",
          "name": "stdout",
          "text": [
            "number\n",
            "number\n",
            "number\n",
            "we have 3 even numbers\n"
          ]
        }
      ]
    }
  ]
}